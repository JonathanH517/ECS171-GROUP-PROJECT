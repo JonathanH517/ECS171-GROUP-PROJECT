{
 "cells": [
  {
   "cell_type": "markdown",
   "id": "9e1d87b0",
   "metadata": {},
   "source": [
    "# Car Price Prediction Model(Group 15)"
   ]
  },
  {
   "cell_type": "markdown",
   "id": "93de8b01",
   "metadata": {},
   "source": [
    "## Data Preprocessing"
   ]
  },
  {
   "cell_type": "code",
   "execution_count": 263,
   "id": "6c4b0960",
   "metadata": {},
   "outputs": [],
   "source": [
    "import matplotlib.pyplot as plt\n",
    "import seaborn as sns\n",
    "import pandas as pd\n",
    "import numpy as np\n",
    "import plotly.express as px\n",
    "import plotly.figure_factory as ff\n",
    "import matplotlib.pyplot as plt\n",
    "\n",
    "from sklearn.model_selection import train_test_split\n",
    "from sklearn.metrics import classification_report, mean_squared_error\n",
    "from sklearn import preprocessing\n",
    "from sklearn.preprocessing import PolynomialFeatures\n",
    "from sklearn.linear_model import LinearRegression\n",
    "from sklearn.linear_model import LogisticRegression\n",
    "from sklearn.preprocessing import OneHotEncoder\n",
    "from sklearn.preprocessing import StandardScaler\n",
    "from IPython.display import display\n",
    "from sklearn.preprocessing import RobustScaler\n",
    "from sklearn.svm import OneClassSVM\n",
    "from numpy import where\n",
    "import operator\n",
    "import re\n",
    "\n",
    "def extract_hp(s):\n",
    "    match = re.search(r'(\\d+(\\.\\d+)?)HP', s)\n",
    "    return float(match.group(1)) if match else float(\"0\")\n",
    "\n",
    "def extract_milage(s):\n",
    "    numeric_string = ''.join(re.findall(r'\\d+', s))\n",
    "    if numeric_string:\n",
    "        return int(numeric_string)\n",
    "    else:\n",
    "        return float(\"0\")\n",
    "\n",
    "def extract_monetary_value(s):\n",
    "    # This pattern ignores non-numeric characters like $ and ,\n",
    "    numeric_string = ''.join(re.findall(r'\\d+', s))\n",
    "    return int(numeric_string) if numeric_string else float(\"0\")\n",
    "\n",
    "def extract_model_year(s):\n",
    "    try:\n",
    "        year = int(s)\n",
    "    except ValueError:\n",
    "        # If \"Nan\"\n",
    "        year = 2024\n",
    "    # Compute and return the result.\n",
    "    return 2024 - year"
   ]
  },
  {
   "cell_type": "code",
   "execution_count": 264,
   "id": "26aea303",
   "metadata": {
    "scrolled": false
   },
   "outputs": [],
   "source": [
    "#load in data\n",
    "dataset = pd.read_csv(\"./used_cars.csv\")\n",
    "#pre-process dataset to only the most popular 15 types of car will be used \n",
    "brand_counts = len(pd.unique(dataset['brand']))\n",
    "\n",
    "# Choose the TOP15 brands from the dataset\n",
    "top_15 = dataset['brand'].value_counts().head(15).index\n",
    "dataset_top_brands = dataset[dataset['brand'].isin(top_15)]\n",
    "dataset_top_brands.reset_index(drop=True, inplace=True)\n",
    "\n",
    "dataset_top_brands = dataset\n"
   ]
  },
  {
   "cell_type": "code",
   "execution_count": 265,
   "id": "50ccef8a",
   "metadata": {},
   "outputs": [],
   "source": [
    "#use model_year, milage, price, horse_power\n",
    "# get rid of the mi. at the end to make milage numeric\n",
    "dataset_top_brands['milage'] = dataset_top_brands['milage'].astype(str).apply(extract_milage)\n",
    "#figure out the model-age \n",
    "# dataset_top_brands['model_year'] = dataset_top_brands['model_year'].astype(str).apply(extract_model_year)\n",
    "# get price \n",
    "dataset_top_brands['price'] = dataset_top_brands['price'].astype(str).apply(extract_monetary_value)\n",
    "# get HP\n",
    "\n",
    "dataset_top_brands['horse_power'] = dataset_top_brands['engine'].apply(extract_hp).astype('float64')\n",
    "#convert accident into -1,1,0\n",
    "answer = len(pd.unique(dataset_top_brands['accident']))\n",
    "# Replace specific values with new values\n",
    "replacement_mapping = {\n",
    "    'At least 1 accident or damage reported': 0,\n",
    "    'None reported': 1,\n",
    "    'Unknown': 0\n",
    "}\n",
    "dataset_top_brands['accident'] = dataset_top_brands['accident'].replace(replacement_mapping)"
   ]
  },
  {
   "cell_type": "code",
   "execution_count": 266,
   "id": "0233fa5e",
   "metadata": {
    "scrolled": false
   },
   "outputs": [
    {
     "data": {
      "text/html": [
       "<div>\n",
       "<style scoped>\n",
       "    .dataframe tbody tr th:only-of-type {\n",
       "        vertical-align: middle;\n",
       "    }\n",
       "\n",
       "    .dataframe tbody tr th {\n",
       "        vertical-align: top;\n",
       "    }\n",
       "\n",
       "    .dataframe thead th {\n",
       "        text-align: right;\n",
       "    }\n",
       "</style>\n",
       "<table border=\"1\" class=\"dataframe\">\n",
       "  <thead>\n",
       "    <tr style=\"text-align: right;\">\n",
       "      <th></th>\n",
       "      <th>model_year</th>\n",
       "      <th>milage</th>\n",
       "      <th>price</th>\n",
       "      <th>horse_power</th>\n",
       "    </tr>\n",
       "  </thead>\n",
       "  <tbody>\n",
       "    <tr>\n",
       "      <th>0</th>\n",
       "      <td>2013</td>\n",
       "      <td>51000</td>\n",
       "      <td>10300</td>\n",
       "      <td>300.0</td>\n",
       "    </tr>\n",
       "    <tr>\n",
       "      <th>1</th>\n",
       "      <td>2021</td>\n",
       "      <td>34742</td>\n",
       "      <td>38005</td>\n",
       "      <td>0.0</td>\n",
       "    </tr>\n",
       "    <tr>\n",
       "      <th>2</th>\n",
       "      <td>2022</td>\n",
       "      <td>22372</td>\n",
       "      <td>54598</td>\n",
       "      <td>0.0</td>\n",
       "    </tr>\n",
       "    <tr>\n",
       "      <th>3</th>\n",
       "      <td>2015</td>\n",
       "      <td>88900</td>\n",
       "      <td>15500</td>\n",
       "      <td>354.0</td>\n",
       "    </tr>\n",
       "    <tr>\n",
       "      <th>4</th>\n",
       "      <td>2021</td>\n",
       "      <td>9835</td>\n",
       "      <td>34999</td>\n",
       "      <td>0.0</td>\n",
       "    </tr>\n",
       "    <tr>\n",
       "      <th>...</th>\n",
       "      <td>...</td>\n",
       "      <td>...</td>\n",
       "      <td>...</td>\n",
       "      <td>...</td>\n",
       "    </tr>\n",
       "    <tr>\n",
       "      <th>4004</th>\n",
       "      <td>2023</td>\n",
       "      <td>714</td>\n",
       "      <td>349950</td>\n",
       "      <td>0.0</td>\n",
       "    </tr>\n",
       "    <tr>\n",
       "      <th>4005</th>\n",
       "      <td>2022</td>\n",
       "      <td>10900</td>\n",
       "      <td>53900</td>\n",
       "      <td>349.0</td>\n",
       "    </tr>\n",
       "    <tr>\n",
       "      <th>4006</th>\n",
       "      <td>2022</td>\n",
       "      <td>2116</td>\n",
       "      <td>90998</td>\n",
       "      <td>0.0</td>\n",
       "    </tr>\n",
       "    <tr>\n",
       "      <th>4007</th>\n",
       "      <td>2020</td>\n",
       "      <td>33000</td>\n",
       "      <td>62999</td>\n",
       "      <td>450.0</td>\n",
       "    </tr>\n",
       "    <tr>\n",
       "      <th>4008</th>\n",
       "      <td>2020</td>\n",
       "      <td>43000</td>\n",
       "      <td>40000</td>\n",
       "      <td>248.0</td>\n",
       "    </tr>\n",
       "  </tbody>\n",
       "</table>\n",
       "<p>4009 rows × 4 columns</p>\n",
       "</div>"
      ],
      "text/plain": [
       "      model_year  milage   price  horse_power\n",
       "0           2013   51000   10300        300.0\n",
       "1           2021   34742   38005          0.0\n",
       "2           2022   22372   54598          0.0\n",
       "3           2015   88900   15500        354.0\n",
       "4           2021    9835   34999          0.0\n",
       "...          ...     ...     ...          ...\n",
       "4004        2023     714  349950          0.0\n",
       "4005        2022   10900   53900        349.0\n",
       "4006        2022    2116   90998          0.0\n",
       "4007        2020   33000   62999        450.0\n",
       "4008        2020   43000   40000        248.0\n",
       "\n",
       "[4009 rows x 4 columns]"
      ]
     },
     "execution_count": 266,
     "metadata": {},
     "output_type": "execute_result"
    }
   ],
   "source": [
    "dataset_top_brands.reset_index(drop=True, inplace=True)\n",
    "dataset_top_brands = dataset_top_brands.drop(['brand', 'clean_title','fuel_type','transmission','engine','ext_col','int_col', 'model', 'accident'], axis=1)\n",
    "\n",
    "\n",
    "dataset_top_brands"
   ]
  },
  {
   "cell_type": "code",
   "execution_count": 285,
   "id": "a45e7ec1",
   "metadata": {},
   "outputs": [
    {
     "ename": "NameError",
     "evalue": "name 'RobustScaler' is not defined",
     "output_type": "error",
     "traceback": [
      "\u001b[1;31m---------------------------------------------------------------------------\u001b[0m",
      "\u001b[1;31mNameError\u001b[0m                                 Traceback (most recent call last)",
      "Cell \u001b[1;32mIn[285], line 5\u001b[0m\n\u001b[0;32m      2\u001b[0m milage_data \u001b[38;5;241m=\u001b[39m dataset_top_brands[[\u001b[38;5;124m'\u001b[39m\u001b[38;5;124mmilage\u001b[39m\u001b[38;5;124m'\u001b[39m]]\u001b[38;5;241m.\u001b[39mvalues  \u001b[38;5;66;03m# Extracting as a 2D array for sklearn\u001b[39;00m\n\u001b[0;32m      4\u001b[0m \u001b[38;5;66;03m# Scaling the 'milage' data\u001b[39;00m\n\u001b[1;32m----> 5\u001b[0m scaler \u001b[38;5;241m=\u001b[39m RobustScaler()\n\u001b[0;32m      6\u001b[0m milage_scaled \u001b[38;5;241m=\u001b[39m scaler\u001b[38;5;241m.\u001b[39mfit_transform(milage_data)\n\u001b[0;32m      8\u001b[0m \u001b[38;5;66;03m# Initialize OneClassSVM with RBF kernel\u001b[39;00m\n\u001b[0;32m      9\u001b[0m \u001b[38;5;66;03m# Note: Adjust gamma and nu as needed based on your specific dataset and outlier detection sensitivity\u001b[39;00m\n",
      "\u001b[1;31mNameError\u001b[0m: name 'RobustScaler' is not defined"
     ]
    }
   ],
   "source": [
    "# Isolating the 'milage' feature for outlier detection\n",
    "milage_data = dataset_top_brands[['milage']].values  # Extracting as a 2D array for sklearn\n",
    "\n",
    "# Scaling the 'milage' data\n",
    "scaler = RobustScaler()\n",
    "milage_scaled = scaler.fit_transform(milage_data)\n",
    "\n",
    "# Initialize OneClassSVM with RBF kernel\n",
    "# Note: Adjust gamma and nu as needed based on your specific dataset and outlier detection sensitivity\n",
    "svm = OneClassSVM(kernel='rbf', gamma=0.001, nu=0.2)\n",
    "svm.fit(milage_scaled)\n",
    "\n",
    "# Predict inliers (1) and outliers (-1) based on 'milage'\n",
    "milage_pred = svm.predict(milage_scaled)\n",
    "\n",
    "# Filter out the outliers from the entire dataset based on 'milage' prediction\n",
    "dataset_filtered = dataset_top_brands[milage_pred == 1]\n",
    "\n",
    "print(\"Filtered Dataset without Outliers based on Milage:\")\n",
    "print(dataset_filtered)\n",
    "# Original Data Plot\n",
    "plt.figure(figsize=(12, 6))\n",
    "\n",
    "plt.subplot(1, 2, 1)  # 1 row, 2 columns, 1st subplot\n",
    "plt.scatter(dataset_top_brands['milage'], dataset_top_brands['price'], color='blue', label='All Data')\n",
    "plt.title('Original Dataset')\n",
    "plt.xlabel('Milage')\n",
    "plt.ylabel('Price')\n",
    "plt.legend()\n",
    "\n",
    "# Outliers Marked Plot\n",
    "plt.subplot(1, 2, 2)  # 1 row, 2 columns, 2nd subplot\n",
    "\n",
    "# Plotting all data points\n",
    "plt.scatter(dataset_top_brands['milage'], dataset_top_brands['price'], color='blue', label='Inliers')\n",
    "\n",
    "# Overlaying outliers in a different color\n",
    "# Outliers are where milage_pred == -1\n",
    "outliers = dataset_top_brands[milage_pred == -1]\n",
    "plt.scatter(outliers['milage'], outliers['price'], color='red', label='Outliers')\n",
    "\n",
    "plt.title('Outliers Marked Based on Milage')\n",
    "plt.xlabel('Milage')\n",
    "plt.ylabel('Price')\n",
    "plt.legend()\n",
    "\n",
    "plt.tight_layout()\n",
    "plt.show()"
   ]
  },
  {
   "cell_type": "markdown",
   "id": "b669a4f1",
   "metadata": {},
   "source": [
    "# Apply SVM Regression Model"
   ]
  },
  {
   "cell_type": "code",
   "execution_count": 268,
   "id": "c979dd1b",
   "metadata": {},
   "outputs": [],
   "source": [
    "from sklearn.compose import ColumnTransformer\n",
    "from sklearn.pipeline import Pipeline\n",
    "import pandas as pd\n",
    "from sklearn.model_selection import train_test_split\n",
    "from sklearn.preprocessing import PolynomialFeatures\n",
    "from sklearn.linear_model import LinearRegression\n",
    "from sklearn.metrics import mean_squared_error, r2_score\n",
    "from sklearn.preprocessing import OneHotEncoder\n",
    "from sklearn.compose import ColumnTransformer\n",
    "from sklearn.pipeline import Pipeline\n",
    "from sklearn.impute import SimpleImputer\n",
    "import numpy as np\n",
    "from sklearn.svm import SVC\n",
    "from sklearn.model_selection import train_test_split\n",
    "from sklearn.metrics import accuracy_score\n",
    "from sklearn.svm import SVR\n",
    "from sklearn.preprocessing import MinMaxScaler\n",
    "from sklearn.metrics import mean_absolute_error\n",
    "from sklearn.tree import DecisionTreeRegressor"
   ]
  },
  {
   "cell_type": "code",
   "execution_count": 279,
   "id": "c4a73f36",
   "metadata": {},
   "outputs": [],
   "source": [
    "def SVM_training_metrics(X_train, X_test, y_train):\n",
    "    svm = SVR(kernel='poly', C=100)\n",
    "    svm.fit(X_train, y_train)\n",
    "    y_pred = svm.predict(X_train)\n",
    "    rmse = np.sqrt(mean_squared_error(y_train.ravel(), y_pred))\n",
    "    mae = mean_absolute_error(y_train, y_pred)\n",
    "    r2 = r2_score(y_train.ravel(), y_pred)\n",
    "\n",
    "    print('Training set metrics')\n",
    "    print('-'*20)\n",
    "    print(f'RMSE: {rmse}')\n",
    "    print(f'R-squared(Score): {r2}')\n",
    "    print('MAE: ' + str(mae))"
   ]
  },
  {
   "cell_type": "code",
   "execution_count": 280,
   "id": "c6752cc6",
   "metadata": {},
   "outputs": [
    {
     "name": "stdout",
     "output_type": "stream",
     "text": [
      "Training set metrics\n",
      "--------------------\n",
      "RMSE: 25198.289101595547\n",
      "R-squared(Score): 0.32016374004523807\n",
      "MAE: 11657.414151758323\n"
     ]
    }
   ],
   "source": [
    "#scale the dataset\n",
    "y = dataset_filtered['price']\n",
    "\n",
    "X = dataset_filtered.drop(['price'], axis = 1)\n",
    "scaler = MinMaxScaler(feature_range=(0, 1))\n",
    "X = scaler.fit_transform(X)\n",
    "# Split the dataset into training and testing sets\n",
    "X_train, X_test, y_train, y_test = train_test_split(X, y, test_size=0.2, random_state=50)\n",
    "\n",
    "SVM_training_metrics(X_train, X_test, y_train)"
   ]
  },
  {
   "cell_type": "markdown",
   "id": "934e8463",
   "metadata": {},
   "source": [
    "# Decision Tree"
   ]
  },
  {
   "cell_type": "code",
   "execution_count": 271,
   "id": "60c25283",
   "metadata": {},
   "outputs": [],
   "source": [
    "def Tree_training_metrics(X_train, X_test, y_train):\n",
    "    svm = SVR(kernel='poly', C=100)\n",
    "    svm.fit(X_train, y_train)\n",
    "    y_pred = svm.predict(X_train)\n",
    "    rmse = np.sqrt(mean_squared_error(y_train.ravel(), y_pred))\n",
    "    mae = mean_absolute_error(y_train, y_pred)\n",
    "    r2 = r2_score(y_train.ravel(), y_pred)\n",
    "\n",
    "    print('Training set metrics')\n",
    "    print('-'*20)\n",
    "    print(f'RMSE: {rmse}')\n",
    "    print(f'R-squared: {r2}')\n",
    "    print('MAE: ' + str(mae))"
   ]
  },
  {
   "cell_type": "code",
   "execution_count": 272,
   "id": "bcbdcfe4",
   "metadata": {},
   "outputs": [
    {
     "data": {
      "text/html": [
       "<style>#sk-container-id-6 {color: black;}#sk-container-id-6 pre{padding: 0;}#sk-container-id-6 div.sk-toggleable {background-color: white;}#sk-container-id-6 label.sk-toggleable__label {cursor: pointer;display: block;width: 100%;margin-bottom: 0;padding: 0.3em;box-sizing: border-box;text-align: center;}#sk-container-id-6 label.sk-toggleable__label-arrow:before {content: \"▸\";float: left;margin-right: 0.25em;color: #696969;}#sk-container-id-6 label.sk-toggleable__label-arrow:hover:before {color: black;}#sk-container-id-6 div.sk-estimator:hover label.sk-toggleable__label-arrow:before {color: black;}#sk-container-id-6 div.sk-toggleable__content {max-height: 0;max-width: 0;overflow: hidden;text-align: left;background-color: #f0f8ff;}#sk-container-id-6 div.sk-toggleable__content pre {margin: 0.2em;color: black;border-radius: 0.25em;background-color: #f0f8ff;}#sk-container-id-6 input.sk-toggleable__control:checked~div.sk-toggleable__content {max-height: 200px;max-width: 100%;overflow: auto;}#sk-container-id-6 input.sk-toggleable__control:checked~label.sk-toggleable__label-arrow:before {content: \"▾\";}#sk-container-id-6 div.sk-estimator input.sk-toggleable__control:checked~label.sk-toggleable__label {background-color: #d4ebff;}#sk-container-id-6 div.sk-label input.sk-toggleable__control:checked~label.sk-toggleable__label {background-color: #d4ebff;}#sk-container-id-6 input.sk-hidden--visually {border: 0;clip: rect(1px 1px 1px 1px);clip: rect(1px, 1px, 1px, 1px);height: 1px;margin: -1px;overflow: hidden;padding: 0;position: absolute;width: 1px;}#sk-container-id-6 div.sk-estimator {font-family: monospace;background-color: #f0f8ff;border: 1px dotted black;border-radius: 0.25em;box-sizing: border-box;margin-bottom: 0.5em;}#sk-container-id-6 div.sk-estimator:hover {background-color: #d4ebff;}#sk-container-id-6 div.sk-parallel-item::after {content: \"\";width: 100%;border-bottom: 1px solid gray;flex-grow: 1;}#sk-container-id-6 div.sk-label:hover label.sk-toggleable__label {background-color: #d4ebff;}#sk-container-id-6 div.sk-serial::before {content: \"\";position: absolute;border-left: 1px solid gray;box-sizing: border-box;top: 0;bottom: 0;left: 50%;z-index: 0;}#sk-container-id-6 div.sk-serial {display: flex;flex-direction: column;align-items: center;background-color: white;padding-right: 0.2em;padding-left: 0.2em;position: relative;}#sk-container-id-6 div.sk-item {position: relative;z-index: 1;}#sk-container-id-6 div.sk-parallel {display: flex;align-items: stretch;justify-content: center;background-color: white;position: relative;}#sk-container-id-6 div.sk-item::before, #sk-container-id-6 div.sk-parallel-item::before {content: \"\";position: absolute;border-left: 1px solid gray;box-sizing: border-box;top: 0;bottom: 0;left: 50%;z-index: -1;}#sk-container-id-6 div.sk-parallel-item {display: flex;flex-direction: column;z-index: 1;position: relative;background-color: white;}#sk-container-id-6 div.sk-parallel-item:first-child::after {align-self: flex-end;width: 50%;}#sk-container-id-6 div.sk-parallel-item:last-child::after {align-self: flex-start;width: 50%;}#sk-container-id-6 div.sk-parallel-item:only-child::after {width: 0;}#sk-container-id-6 div.sk-dashed-wrapped {border: 1px dashed gray;margin: 0 0.4em 0.5em 0.4em;box-sizing: border-box;padding-bottom: 0.4em;background-color: white;}#sk-container-id-6 div.sk-label label {font-family: monospace;font-weight: bold;display: inline-block;line-height: 1.2em;}#sk-container-id-6 div.sk-label-container {text-align: center;}#sk-container-id-6 div.sk-container {/* jupyter's `normalize.less` sets `[hidden] { display: none; }` but bootstrap.min.css set `[hidden] { display: none !important; }` so we also need the `!important` here to be able to override the default hidden behavior on the sphinx rendered scikit-learn.org. See: https://github.com/scikit-learn/scikit-learn/issues/21755 */display: inline-block !important;position: relative;}#sk-container-id-6 div.sk-text-repr-fallback {display: none;}</style><div id=\"sk-container-id-6\" class=\"sk-top-container\"><div class=\"sk-text-repr-fallback\"><pre>DecisionTreeRegressor(max_depth=5)</pre><b>In a Jupyter environment, please rerun this cell to show the HTML representation or trust the notebook. <br />On GitHub, the HTML representation is unable to render, please try loading this page with nbviewer.org.</b></div><div class=\"sk-container\" hidden><div class=\"sk-item\"><div class=\"sk-estimator sk-toggleable\"><input class=\"sk-toggleable__control sk-hidden--visually\" id=\"sk-estimator-id-6\" type=\"checkbox\" checked><label for=\"sk-estimator-id-6\" class=\"sk-toggleable__label sk-toggleable__label-arrow\">DecisionTreeRegressor</label><div class=\"sk-toggleable__content\"><pre>DecisionTreeRegressor(max_depth=5)</pre></div></div></div></div></div>"
      ],
      "text/plain": [
       "DecisionTreeRegressor(max_depth=5)"
      ]
     },
     "execution_count": 272,
     "metadata": {},
     "output_type": "execute_result"
    }
   ],
   "source": [
    "tree = DecisionTreeRegressor(max_depth = 5)\n",
    "tree.fit(X_train, y_train)"
   ]
  },
  {
   "cell_type": "code",
   "execution_count": null,
   "id": "fbd9c301",
   "metadata": {},
   "outputs": [],
   "source": []
  },
  {
   "cell_type": "code",
   "execution_count": null,
   "id": "1a259124",
   "metadata": {},
   "outputs": [],
   "source": []
  }
 ],
 "metadata": {
  "kernelspec": {
   "display_name": "Python 3 (ipykernel)",
   "language": "python",
   "name": "python3"
  },
  "language_info": {
   "codemirror_mode": {
    "name": "ipython",
    "version": 3
   },
   "file_extension": ".py",
   "mimetype": "text/x-python",
   "name": "python",
   "nbconvert_exporter": "python",
   "pygments_lexer": "ipython3",
   "version": "3.11.5"
  }
 },
 "nbformat": 4,
 "nbformat_minor": 5
}
