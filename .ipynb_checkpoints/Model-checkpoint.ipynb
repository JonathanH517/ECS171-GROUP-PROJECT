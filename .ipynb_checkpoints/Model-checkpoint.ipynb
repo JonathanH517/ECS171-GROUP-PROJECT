{
 "cells": [
  {
   "cell_type": "markdown",
   "id": "9e1d87b0",
   "metadata": {},
   "source": [
    "# Car Price Prediction Model(Group 15)"
   ]
  },
  {
   "cell_type": "markdown",
   "id": "93de8b01",
   "metadata": {},
   "source": [
    "## Data Preprocessing"
   ]
  },
  {
   "cell_type": "code",
   "execution_count": 3,
   "id": "6c4b0960",
   "metadata": {},
   "outputs": [],
   "source": [
    "import matplotlib.pyplot as plt\n",
    "import seaborn as sns\n",
    "import pandas as pd\n",
    "import numpy as np\n",
    "import plotly.express as px\n",
    "import plotly.figure_factory as ff\n",
    "import matplotlib.pyplot as plt\n",
    "\n",
    "from sklearn.model_selection import train_test_split\n",
    "from sklearn.metrics import classification_report, mean_squared_error\n",
    "from sklearn.preprocessing import PolynomialFeatures\n",
    "from sklearn.linear_model import LinearRegression\n",
    "from sklearn.linear_model import LogisticRegression\n",
    "from sklearn import preprocessing\n",
    "\n",
    "from IPython.display import display\n",
    "\n",
    "from sklearn.svm import OneClassSVM\n",
    "from numpy import where\n",
    "import operator"
   ]
  },
  {
   "cell_type": "code",
   "execution_count": 25,
   "id": "26aea303",
   "metadata": {},
   "outputs": [
    {
     "name": "stdout",
     "output_type": "stream",
     "text": [
      "Series([], Name: count, dtype: int64)\n"
     ]
    }
   ],
   "source": [
    "#load in data\n",
    "dataset = pd.read_csv(\"./used_cars.csv\")\n",
    "# get rid of the mi. at the end to make milage numeric\n",
    "dataset['milage'] = dataset['milage'].str.extract('(\\d+)').astype(float)\n",
    "# get rid of the mi. at the end to make actual price numeric\n",
    "dataset['price'] = dataset['price'].str.replace('[$,]', '', regex=True).astype(float)\n",
    "\n",
    "dataset['brand'] = dataset['brand'].value_counts()[:15]\n",
    "\n",
    "\n",
    "brand_counts = dataset['brand'].value_counts()\n",
    "print(brand_counts)\n",
    "top_15_brands = brand_counts.head(15).index.tolist()\n",
    "dataset_model_truc = dataset[dataset['brand'].isin(top_15_brands)]\n"
   ]
  },
  {
   "cell_type": "code",
   "execution_count": null,
   "id": "0233fa5e",
   "metadata": {},
   "outputs": [],
   "source": []
  }
 ],
 "metadata": {
  "kernelspec": {
   "display_name": "Python 3 (ipykernel)",
   "language": "python",
   "name": "python3"
  },
  "language_info": {
   "codemirror_mode": {
    "name": "ipython",
    "version": 3
   },
   "file_extension": ".py",
   "mimetype": "text/x-python",
   "name": "python",
   "nbconvert_exporter": "python",
   "pygments_lexer": "ipython3",
   "version": "3.11.5"
  }
 },
 "nbformat": 4,
 "nbformat_minor": 5
}
